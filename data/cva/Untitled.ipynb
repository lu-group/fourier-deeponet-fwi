{
 "cells": [
  {
   "cell_type": "code",
   "execution_count": 6,
   "id": "37e031cb",
   "metadata": {},
   "outputs": [],
   "source": [
    "import os\n",
    "\n",
    "path = './seismic/f'\n",
    "isExists = os.path.exists(path)\n",
    "if not isExists:\n",
    "    os.makedirs(path)"
   ]
  },
  {
   "cell_type": "code",
   "execution_count": 5,
   "id": "28c2ddfd",
   "metadata": {},
   "outputs": [],
   "source": [
    "import os\n",
    "\n",
    "path = './seismic/loc'\n",
    "isExists = os.path.exists(path)\n",
    "if not isExists:\n",
    "    os.makedirs(path)"
   ]
  },
  {
   "cell_type": "code",
   "execution_count": 4,
   "id": "0a3e419d",
   "metadata": {},
   "outputs": [],
   "source": [
    "import os\n",
    "\n",
    "path = './seismic/loc_f'\n",
    "isExists = os.path.exists(path)\n",
    "if not isExists:\n",
    "    os.makedirs(path)"
   ]
  },
  {
   "cell_type": "code",
   "execution_count": null,
   "id": "1f6b5665",
   "metadata": {},
   "outputs": [],
   "source": []
  }
 ],
 "metadata": {
  "kernelspec": {
   "display_name": "Python 3 (ipykernel)",
   "language": "python",
   "name": "python3"
  },
  "language_info": {
   "codemirror_mode": {
    "name": "ipython",
    "version": 3
   },
   "file_extension": ".py",
   "mimetype": "text/x-python",
   "name": "python",
   "nbconvert_exporter": "python",
   "pygments_lexer": "ipython3",
   "version": "3.10.6"
  }
 },
 "nbformat": 4,
 "nbformat_minor": 5
}
